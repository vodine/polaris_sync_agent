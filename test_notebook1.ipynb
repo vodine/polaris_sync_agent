{
 "cells": [
  {
   "cell_type": "code",
   "execution_count": 49,
   "id": "5121a35d",
   "metadata": {},
   "outputs": [],
   "source": [
    "import requests\n",
    "import json\n",
    "import os\n",
    "import dotenv\n",
    "from datetime import datetime, timedelta\n",
    "from auth_grant import get_service_token\n",
    "from mysql_conn import get_mysql_connection\n",
    "import imaplib\n",
    "import email\n",
    "from email.header import decode_header\n",
    "import re\n"
   ]
  },
  {
   "cell_type": "code",
   "execution_count": null,
   "id": "f95a8bc6",
   "metadata": {},
   "outputs": [],
   "source": [
    "IMAP_HOST = 'outlook.office365.com'\n",
    "EMAIL_USER = 'scheduling@polarisforensics.com'\n",
    "EMAIL_PASS = os.getenv('SCHEDULING_APP_PASSWORD')  # store securely\n",
    "\n",
    "mail = imaplib.IMAP4_SSL(IMAP_HOST)\n",
    "mail.login(EMAIL_USER, EMAIL_PASS)"
   ]
  },
  {
   "cell_type": "code",
   "execution_count": 41,
   "id": "8dc9a7a9",
   "metadata": {},
   "outputs": [
    {
     "name": "stdout",
     "output_type": "stream",
     "text": [
      "Deployment: polarisforensics.api.accelo.com\n"
     ]
    },
    {
     "name": "stderr",
     "output_type": "stream",
     "text": [
      "2025-07-01 14:29:05,120 [INFO] Service token successfully retrieved.\n"
     ]
    },
    {
     "name": "stdout",
     "output_type": "stream",
     "text": [
      "Access Token: jSmAizhH0rwO52RrJPE.Lx_Hq6lcG55zTshoc8JvQpKYlxqppYRMpLVQpeiLiVfH\n"
     ]
    }
   ],
   "source": [
    "load_dotenv = dotenv.load_dotenv()\n",
    "DEPLOYMENT = os.getenv(\"ACCELO_DEPLOYMENT\")\n",
    "print(f\"Deployment: {DEPLOYMENT}\")\n",
    "\n",
    "ACCELO_ACCESS_TOKEN = get_service_token()\n",
    "print(f\"Access Token: {ACCELO_ACCESS_TOKEN}\")"
   ]
  },
  {
   "cell_type": "code",
   "execution_count": null,
   "id": "080ca8f6",
   "metadata": {},
   "outputs": [],
   "source": [
    "ACCELO_BASE_URL = f\"https://{DEPLOYMENT}/api/v0/\"\n",
    "headers = {\n",
    "    \"Authorization\": f\"Bearer {ACCELO_ACCESS_TOKEN}\",\n",
    "    \"Accept\": \"application/json\"\n",
    "}"
   ]
  },
  {
   "cell_type": "code",
   "execution_count": 48,
   "id": "8133d10e",
   "metadata": {},
   "outputs": [
    {
     "name": "stdout",
     "output_type": "stream",
     "text": [
      "✅ Job ID 4331 from Accelo:\n",
      "\n",
      "id                        : 4331\n",
      "custom_id                 : None\n",
      "type_id                   : None\n",
      "manager_id                : None\n",
      "title                     : Gladiator US Topco, Inc.\n",
      "engagement_id             : None\n",
      "engagement_table          : None\n",
      "affiliation_id            : None\n",
      "created                   : None\n",
      "modified                  : None\n",
      "modified_by               : None\n",
      "start                     : None\n",
      "commenced                 : None\n",
      "due                       : None\n",
      "completed                 : None\n",
      "status                    : None\n",
      "status_id                 : None\n",
      "paused                    : None\n",
      "rate_id                   : None\n",
      "rate_charged              : None\n",
      "budget_id                 : None\n",
      "contract_id               : None\n",
      "client_portal_permissions : None\n",
      "plan_modified             : None\n",
      "plan_modified_by          : None\n",
      "last_interaction          : None\n",
      "comments                  : None\n",
      "invoice_template_id       : None\n",
      "billing_affiliation_id    : None\n"
     ]
    }
   ],
   "source": [
    "# ---- Get Fields from DB ----\n",
    "conn = get_mysql_connection()\n",
    "cursor = conn.cursor()\n",
    "cursor.execute(\"SHOW COLUMNS FROM job\")\n",
    "columns = cursor.fetchall()\n",
    "fields_str = \",\".join(col[0] for col in columns)\n",
    "cursor.close()\n",
    "conn.close()\n",
    "\n",
    "# Now fetch job ID 4331 with all those fields\n",
    "job_id = 4331\n",
    "params = {\n",
    "    \"fields\": fields_str\n",
    "}\n",
    "\n",
    "response = requests.get(f\"{ACCELO_BASE_URL}jobs/{job_id}\", headers=headers, params=params)\n",
    "job = response.json().get(\"response\", {})\n",
    "\n",
    "# Print the results side-by-side for comparison\n",
    "print(f\"✅ Job ID {job_id} from Accelo:\\n\")\n",
    "for field in fields_str.split(','):\n",
    "    print(f\"{field:25} : {job.get(field)}\")"
   ]
  },
  {
   "cell_type": "code",
   "execution_count": 55,
   "id": "5e03094a",
   "metadata": {},
   "outputs": [
    {
     "name": "stdout",
     "output_type": "stream",
     "text": [
      "CSV data inserted successfully.\n"
     ]
    }
   ],
   "source": [
    "import csv\n",
    "import psycopg2\n",
    "from pg_conn import get_pg_connection\n",
    "\n",
    "# Path to your CSV file\n",
    "csv_path = r\"C:/Users/Vincent Odine/Downloads/Accelo_Table_Sync_Prioritization__Clean_.csv\"\n",
    "table_name = \"accelo_monitor.sync_manifest\"\n",
    "\n",
    "# Connect to PostgreSQL\n",
    "conn = get_pg_connection()\n",
    "cur = conn.cursor()\n",
    "\n",
    "# Open the CSV and insert relevant columns\n",
    "with open(csv_path, newline='', encoding='utf-8-sig') as csvfile:\n",
    "    reader = csv.DictReader(csvfile)\n",
    "    insert_columns = [\"table_name\", \"sync_priority\"]\n",
    "\n",
    "    for row in reader:\n",
    "        values = [row[col] for col in insert_columns]\n",
    "        cur.execute(\n",
    "            f\"\"\"\n",
    "            INSERT INTO {table_name} ({', '.join(insert_columns)})\n",
    "            VALUES (%s, %s)\n",
    "            \"\"\",\n",
    "            values\n",
    "        )\n",
    "\n",
    "conn.commit()\n",
    "cur.close()\n",
    "conn.close()\n",
    "\n",
    "print(\"CSV data inserted successfully.\")\n"
   ]
  },
  {
   "cell_type": "code",
   "execution_count": null,
   "id": "e9f86f4a",
   "metadata": {},
   "outputs": [],
   "source": []
  }
 ],
 "metadata": {
  "kernelspec": {
   "display_name": "Polaris Sync (Agent)",
   "language": "python",
   "name": "polaris_sync_env"
  },
  "language_info": {
   "codemirror_mode": {
    "name": "ipython",
    "version": 3
   },
   "file_extension": ".py",
   "mimetype": "text/x-python",
   "name": "python",
   "nbconvert_exporter": "python",
   "pygments_lexer": "ipython3",
   "version": "3.12.10"
  }
 },
 "nbformat": 4,
 "nbformat_minor": 5
}
